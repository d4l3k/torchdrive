{
 "cells": [
  {
   "cell_type": "code",
   "execution_count": 1,
   "id": "08b1582e",
   "metadata": {
    "ExecuteTime": {
     "end_time": "2023-04-24T04:09:50.287711Z",
     "start_time": "2023-04-24T04:09:50.277051Z"
    }
   },
   "outputs": [],
   "source": [
    "%load_ext autoreload"
   ]
  },
  {
   "cell_type": "code",
   "execution_count": 98,
   "id": "32dfa27f",
   "metadata": {
    "ExecuteTime": {
     "end_time": "2023-04-25T01:33:48.998365Z",
     "start_time": "2023-04-25T01:33:44.374550Z"
    },
    "scrolled": true
   },
   "outputs": [
    {
     "name": "stdout",
     "output_type": "stream",
     "text": [
      "heading_weights {5: 0.5555555555555556, 45: 1.6666666666666667, 15: 1.6666666666666667}\n",
      "1196\n"
     ]
    }
   ],
   "source": [
    "%autoreload 2\n",
    "from torchdrive.data import collate\n",
    "from torchdrive.datasets.rice import MultiCamDataset\n",
    "from torchdrive.notebook import display_img, display_color, display, to_pil_image\n",
    "from torchdrive.transforms.batch import NormalizeCarPosition\n",
    "\n",
    "a = MultiCamDataset(\n",
    "    index_file=\"../../openape/snapshots/out-mar23/index.txt\",\n",
    "    mask_dir=\"../../openape/masks\",\n",
    "    cameras=[\"main\", \"narrow\", \"fisheye\", \"leftpillar\", \"leftrepeater\", \"rightpillar\", \"rightrepeater\", \"backup\"],\n",
    "    cam_shape=(480, 640),\n",
    "    nframes_per_point=5,\n",
    "    limit_size=1000,\n",
    "    dynamic=True,\n",
    ")\n",
    "print(len(a))\n",
    "example = a[800]\n",
    "\n",
    "transform = NormalizeCarPosition(start_frame=0)\n",
    "batch = collate([example])\n",
    "batch = transform(batch)\n",
    "\n",
    "#for cam in a.cameras:\n",
    "#    display_img(example.color[cam][0].float())"
   ]
  },
  {
   "cell_type": "code",
   "execution_count": 121,
   "id": "d7a60e69",
   "metadata": {
    "ExecuteTime": {
     "end_time": "2023-04-25T01:40:03.367675Z",
     "start_time": "2023-04-25T01:40:02.875066Z"
    }
   },
   "outputs": [
    {
     "data": {
      "application/vnd.jupyter.widget-view+json": {
       "model_id": "6af6cd26741a4557988ddd1752bbca2a",
       "version_major": 2,
       "version_minor": 0
      },
      "text/plain": [
       "Renderer(camera=PerspectiveCamera(aspect=1.6, position=(-10.0, 6.0, 10.0), projectionMatrix=(1.0, 0.0, 0.0, 0.…"
      ]
     },
     "metadata": {},
     "output_type": "display_data"
    }
   ],
   "source": [
    "import math\n",
    "import torch\n",
    "from pythreejs import *\n",
    "from IPython.display import display\n",
    "\n",
    "SCALE = 3\n",
    "D = 256/SCALE\n",
    "W = 256/SCALE\n",
    "H = 12/SCALE\n",
    "\n",
    "view_width = 600\n",
    "view_height = 400\n",
    "camera = PerspectiveCamera( position=[-10, 6, 10], aspect=640/view_height)\n",
    "camera.up = (0, 0, 1)\n",
    "key_light = DirectionalLight(position=[0, 10, 10])\n",
    "ambient_light = AmbientLight()\n",
    "\n",
    "grid_helper1 = GridHelper(20, 20, '#888', '#444')\n",
    "grid_helper10 = GridHelper(100, 10, '#888', '#444')\n",
    "grid_helper1.rotateX(math.pi/2)\n",
    "grid_helper10.rotateX(math.pi/2)\n",
    "\n",
    "scene = Scene(children=[grid_helper1, grid_helper10, camera, key_light, ambient_light], background='#111')\n",
    "frame = 0\n",
    "\n",
    "# render car positions\n",
    "num_positions = batch.long_cam_T[0].size(1)\n",
    "for i in range(num_positions):\n",
    "    T = batch.long_cam_T[0][:, i]\n",
    "    geo = AxesHelper(1)\n",
    "    geo.matrixAutoUpdate = False\n",
    "    geo.matrix = tuple(T.T.contiguous().view(-1).tolist())\n",
    "    scene.add([geo])\n",
    "\n",
    "# render camera positions\n",
    "for cam in batch.T:\n",
    "    T = batch.cam_to_world(cam, frame)\n",
    "    geo = AxesHelper(1)\n",
    "    geo.matrixAutoUpdate = False\n",
    "    geo.matrix = tuple(T.T.contiguous().view(-1).tolist())\n",
    "    scene.add([geo])\n",
    "\n",
    "#sphere.position = (0, 0, 0)\n",
    "renderer = Renderer(camera=camera, scene=scene, controls=[OrbitControls(controlling=camera)], width=view_width, height=view_height)\n",
    "display(renderer)"
   ]
  },
  {
   "cell_type": "code",
   "execution_count": 37,
   "id": "78c1ed92",
   "metadata": {
    "ExecuteTime": {
     "end_time": "2023-04-24T06:49:47.842851Z",
     "start_time": "2023-04-24T06:49:47.820681Z"
    }
   },
   "outputs": [],
   "source": []
  },
  {
   "cell_type": "code",
   "execution_count": null,
   "id": "7044255e",
   "metadata": {},
   "outputs": [],
   "source": [
    "\n",
    "\n",
    "\n",
    "\n",
    "\n",
    "\n",
    "\n",
    "\n",
    "\n",
    "\n",
    "\n",
    "\n",
    "\n",
    "\n",
    "\n",
    "\n",
    "\n",
    "\n",
    "\n",
    "\n",
    "\n",
    "\n",
    "\n",
    "\n",
    "\n",
    "\n",
    "\n",
    "\n",
    "\n",
    "\n",
    "\n",
    "\n",
    "\n",
    "\n",
    "\n",
    "\n"
   ]
  }
 ],
 "metadata": {
  "kernelspec": {
   "display_name": "openape",
   "language": "python",
   "name": "openape"
  },
  "language_info": {
   "codemirror_mode": {
    "name": "ipython",
    "version": 3
   },
   "file_extension": ".py",
   "mimetype": "text/x-python",
   "name": "python",
   "nbconvert_exporter": "python",
   "pygments_lexer": "ipython3",
   "version": "3.10.10"
  }
 },
 "nbformat": 4,
 "nbformat_minor": 5
}
