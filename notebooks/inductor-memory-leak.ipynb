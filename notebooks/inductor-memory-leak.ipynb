{
 "cells": [
  {
   "cell_type": "code",
   "execution_count": 3,
   "id": "d6efcf4c",
   "metadata": {
    "ExecuteTime": {
     "end_time": "2023-03-16T06:19:49.104847Z",
     "start_time": "2023-03-16T06:18:19.809375Z"
    }
   },
   "outputs": [
    {
     "name": "stdout",
     "output_type": "stream",
     "text": [
      "###############\n",
      "## compile_fn inductor\n"
     ]
    },
    {
     "name": "stderr",
     "output_type": "stream",
     "text": [
      "/home/rice/venvs/openape/lib/python3.10/site-packages/mmseg/models/losses/cross_entropy_loss.py:235: UserWarning: Default ``avg_non_ignore`` is False, if you would like to ignore the certain label and average loss over non-ignore labels, which is the same with PyTorch official cross_entropy, set ``avg_non_ignore=True``.\n",
      "  warnings.warn(\n"
     ]
    },
    {
     "name": "stdout",
     "output_type": "stream",
     "text": [
      "load checkpoint from http path: https://dl.cv.ethz.ch/bdd100k/sem_seg/models/upernet_convnext-t_fp16_512x1024_80k_sem_seg_bdd100k.pth\n",
      "0 4604923904\n",
      "100 4606889984\n",
      "200 4609118208\n",
      "300 4611346432\n",
      "400 4613574656\n",
      "500 4615802880\n",
      "600 4618031104\n",
      "700 4620259328\n",
      "800 4622487552\n",
      "900 4624715776\n",
      "###############\n",
      "## compile_fn cudagraphs\n"
     ]
    },
    {
     "name": "stderr",
     "output_type": "stream",
     "text": [
      "/home/rice/venvs/openape/lib/python3.10/site-packages/mmseg/models/losses/cross_entropy_loss.py:235: UserWarning: Default ``avg_non_ignore`` is False, if you would like to ignore the certain label and average loss over non-ignore labels, which is the same with PyTorch official cross_entropy, set ``avg_non_ignore=True``.\n",
      "  warnings.warn(\n"
     ]
    },
    {
     "name": "stdout",
     "output_type": "stream",
     "text": [
      "load checkpoint from http path: https://dl.cv.ethz.ch/bdd100k/sem_seg/models/upernet_convnext-t_fp16_512x1024_80k_sem_seg_bdd100k.pth\n"
     ]
    },
    {
     "name": "stderr",
     "output_type": "stream",
     "text": [
      "/home/rice/venvs/openape/lib/python3.10/site-packages/torch/_functorch/aot_autograd.py:1948: UserWarning: TypedStorage is deprecated. It will be removed in the future and UntypedStorage will be the only storage class. This should only matter to you if you are using storages directly.  To access UntypedStorage directly, use tensor.untyped_storage() instead of tensor.storage()\n",
      "  if not trace_joint and original_inpt.storage().size() != updated_inpt.storage().size():\n",
      "/home/rice/venvs/openape/lib/python3.10/site-packages/torch/_functorch/aot_autograd.py:1948: UserWarning: TypedStorage is deprecated. It will be removed in the future and UntypedStorage will be the only storage class. This should only matter to you if you are using storages directly.  To access UntypedStorage directly, use tensor.untyped_storage() instead of tensor.storage()\n",
      "  if not trace_joint and original_inpt.storage().size() != updated_inpt.storage().size():\n"
     ]
    },
    {
     "name": "stdout",
     "output_type": "stream",
     "text": [
      "0 4839268352\n",
      "100 4719149056\n",
      "200 4719149056\n",
      "300 4719149056\n",
      "400 4719149056\n",
      "500 4719149056\n",
      "600 4719149056\n",
      "700 4719149056\n",
      "800 4719149056\n",
      "900 4719149056\n",
      "###############\n",
      "## compile_fn aot_eager\n"
     ]
    },
    {
     "name": "stderr",
     "output_type": "stream",
     "text": [
      "/home/rice/venvs/openape/lib/python3.10/site-packages/mmseg/models/losses/cross_entropy_loss.py:235: UserWarning: Default ``avg_non_ignore`` is False, if you would like to ignore the certain label and average loss over non-ignore labels, which is the same with PyTorch official cross_entropy, set ``avg_non_ignore=True``.\n",
      "  warnings.warn(\n"
     ]
    },
    {
     "name": "stdout",
     "output_type": "stream",
     "text": [
      "load checkpoint from http path: https://dl.cv.ethz.ch/bdd100k/sem_seg/models/upernet_convnext-t_fp16_512x1024_80k_sem_seg_bdd100k.pth\n"
     ]
    },
    {
     "name": "stderr",
     "output_type": "stream",
     "text": [
      "/home/rice/venvs/openape/lib/python3.10/site-packages/torch/_functorch/aot_autograd.py:1948: UserWarning: TypedStorage is deprecated. It will be removed in the future and UntypedStorage will be the only storage class. This should only matter to you if you are using storages directly.  To access UntypedStorage directly, use tensor.untyped_storage() instead of tensor.storage()\n",
      "  if not trace_joint and original_inpt.storage().size() != updated_inpt.storage().size():\n",
      "/home/rice/venvs/openape/lib/python3.10/site-packages/torch/_functorch/aot_autograd.py:1948: UserWarning: TypedStorage is deprecated. It will be removed in the future and UntypedStorage will be the only storage class. This should only matter to you if you are using storages directly.  To access UntypedStorage directly, use tensor.untyped_storage() instead of tensor.storage()\n",
      "  if not trace_joint and original_inpt.storage().size() != updated_inpt.storage().size():\n"
     ]
    },
    {
     "name": "stdout",
     "output_type": "stream",
     "text": [
      "0 4785172480\n",
      "100 4785172480\n",
      "200 4785172480\n",
      "300 4785172480\n",
      "400 4785172480\n",
      "500 4785172480\n",
      "600 4785172480\n",
      "700 4785172480\n",
      "800 4785172480\n",
      "900 4785172480\n",
      "###############\n",
      "## compile_fn none\n"
     ]
    },
    {
     "name": "stderr",
     "output_type": "stream",
     "text": [
      "/home/rice/venvs/openape/lib/python3.10/site-packages/mmseg/models/losses/cross_entropy_loss.py:235: UserWarning: Default ``avg_non_ignore`` is False, if you would like to ignore the certain label and average loss over non-ignore labels, which is the same with PyTorch official cross_entropy, set ``avg_non_ignore=True``.\n",
      "  warnings.warn(\n"
     ]
    },
    {
     "name": "stdout",
     "output_type": "stream",
     "text": [
      "load checkpoint from http path: https://dl.cv.ethz.ch/bdd100k/sem_seg/models/upernet_convnext-t_fp16_512x1024_80k_sem_seg_bdd100k.pth\n",
      "0 4914999296\n",
      "100 4914999296\n",
      "200 4914999296\n",
      "300 4914999296\n",
      "400 4914999296\n",
      "500 4914999296\n",
      "600 4914999296\n",
      "700 4914999296\n",
      "800 4914999296\n",
      "900 4914999296\n"
     ]
    }
   ],
   "source": [
    "import os, psutil\n",
    "\n",
    "import torch\n",
    "import torch._dynamo\n",
    "from torchdrive.models.semantic import BDD100KSemSeg\n",
    "\n",
    "device = torch.device('cuda')\n",
    "\n",
    "compile_fns = [\n",
    "    (\"inductor\", lambda f: torch.compile(f, backend=\"inductor\")),\n",
    "    (\"cudagraphs\", lambda f: torch.compile(f, backend=\"cudagraphs\")),\n",
    "    (\"aot_eager\", lambda f: torch.compile(f, backend=\"aot_eager\")),\n",
    "    (\"none\", lambda f: f),\n",
    "]\n",
    "\n",
    "for name, compile_fn in compile_fns:\n",
    "    print(\"###############\")\n",
    "    print(\"## compile_fn\", name)\n",
    "    torch._dynamo.reset()\n",
    "    m = BDD100KSemSeg(device=device, compile_fn=compile_fn)\n",
    "    inp = torch.rand(2, 3, 240, 320, device=device) \n",
    "    \n",
    "    for i in range(1000):\n",
    "        m(inp)\n",
    "\n",
    "        if i % 100 == 0:\n",
    "            process = psutil.Process(os.getpid())\n",
    "            print(i, process.memory_info().rss)  # in bytes "
   ]
  },
  {
   "cell_type": "code",
   "execution_count": 4,
   "id": "5b486b21",
   "metadata": {
    "ExecuteTime": {
     "end_time": "2023-03-16T06:20:31.613106Z",
     "start_time": "2023-03-16T06:20:31.604923Z"
    }
   },
   "outputs": [
    {
     "data": {
      "text/plain": [
       "['aot_ts_nvfuser',\n",
       " 'cudagraphs',\n",
       " 'inductor',\n",
       " 'ipex',\n",
       " 'nvprims_nvfuser',\n",
       " 'onnxrt',\n",
       " 'tvm']"
      ]
     },
     "execution_count": 4,
     "metadata": {},
     "output_type": "execute_result"
    }
   ],
   "source": [
    "import torch._dynamo\n",
    "torch._dynamo.list_backends()"
   ]
  }
 ],
 "metadata": {
  "kernelspec": {
   "display_name": "Python 3 (ipykernel)",
   "language": "python",
   "name": "python3"
  },
  "language_info": {
   "codemirror_mode": {
    "name": "ipython",
    "version": 3
   },
   "file_extension": ".py",
   "mimetype": "text/x-python",
   "name": "python",
   "nbconvert_exporter": "python",
   "pygments_lexer": "ipython3",
   "version": "3.10.9"
  }
 },
 "nbformat": 4,
 "nbformat_minor": 5
}
