{
 "cells": [
  {
   "cell_type": "code",
   "execution_count": 6,
   "id": "d6efcf4c",
   "metadata": {
    "ExecuteTime": {
     "end_time": "2023-03-16T16:21:10.436164Z",
     "start_time": "2023-03-16T16:19:11.577815Z"
    }
   },
   "outputs": [
    {
     "name": "stdout",
     "output_type": "stream",
     "text": [
      "###############\n",
      "## compile_fn inductor\n",
      "0 3857846272\n",
      "1000 3864399872\n",
      "2000 3875803136\n",
      "3000 3887206400\n",
      "4000 3898609664\n",
      "5000 3910012928\n",
      "6000 3921416192\n",
      "7000 3932950528\n",
      "8000 3944353792\n",
      "9000 3955888128\n",
      "bytes/it 10944.512\n",
      "bytes 109445120\n",
      "###############\n",
      "## compile_fn cudagraphs\n"
     ]
    },
    {
     "name": "stderr",
     "output_type": "stream",
     "text": [
      "/home/rice/venvs/openape/lib/python3.10/site-packages/torch/_functorch/aot_autograd.py:1251: UserWarning: Your compiler for AOTAutograd is returning a a function that doesn't take boxed arguments. Please wrap it with functorch.compile.make_boxed_func or handle the boxed arguments yourself. See https://github.com/pytorch/pytorch/pull/83137#issuecomment-1211320670 for rationale.\n",
      "  warnings.warn(\n"
     ]
    },
    {
     "name": "stdout",
     "output_type": "stream",
     "text": [
      "0 3995996160\n",
      "1000 3995996160\n",
      "2000 3995996160\n",
      "3000 3995996160\n",
      "4000 3995996160\n",
      "5000 3995996160\n",
      "6000 3995996160\n",
      "7000 3995996160\n",
      "8000 3995996160\n",
      "9000 3995996160\n",
      "bytes/it 0.0\n",
      "bytes 0\n",
      "###############\n",
      "## compile_fn aot_eager\n",
      "0 3995996160\n",
      "1000 3995996160\n",
      "2000 3995996160\n",
      "3000 3995996160\n",
      "4000 3995996160\n",
      "5000 3995996160\n",
      "6000 3995996160\n",
      "7000 3995996160\n",
      "8000 3995996160\n",
      "9000 3995996160\n",
      "bytes/it 0.0\n",
      "bytes 0\n",
      "###############\n",
      "## compile_fn none\n",
      "0 4010414080\n",
      "1000 4010414080\n",
      "2000 4010414080\n",
      "3000 4010414080\n",
      "4000 4010414080\n",
      "5000 4010414080\n",
      "6000 4010414080\n",
      "7000 4010414080\n",
      "8000 4010414080\n",
      "9000 4010414080\n",
      "bytes/it 0.0\n",
      "bytes 0\n"
     ]
    }
   ],
   "source": [
    "import os\n",
    "import psutil\n",
    "import gc\n",
    "\n",
    "import torch\n",
    "import torch._dynamo\n",
    "from torchvision import transforms, models\n",
    "from torchdrive.models.semantic import BDD100KSemSeg\n",
    "\n",
    "device = torch.device('cuda')\n",
    "\n",
    "compile_fns = [\n",
    "    (\"inductor\", lambda f: torch.compile(f, backend=\"inductor\")),\n",
    "    (\"cudagraphs\", lambda f: torch.compile(f, backend=\"cudagraphs\")),\n",
    "    (\"aot_eager\", lambda f: torch.compile(f, backend=\"aot_eager\")),\n",
    "    (\"none\", lambda f: f),\n",
    "]\n",
    "\n",
    "def get_mem():\n",
    "    gc.collect()\n",
    "    process = psutil.Process(os.getpid())\n",
    "    return process.memory_info().rss\n",
    "\n",
    "\n",
    "def f_as_tensor(x):\n",
    "    \"\"\"\n",
    "    leaks 32bytes\n",
    "    \"\"\"\n",
    "    mean = torch.as_tensor((1,2,3,6,7,8,9,10), dtype=x.dtype, device=x.device)\n",
    "    return mean\n",
    "\n",
    "def f_mul(x):\n",
    "    \"\"\"\n",
    "    leaks 64bytes\n",
    "    \"\"\"\n",
    "    return x * 10\n",
    "\n",
    "def f_view(x):\n",
    "    \"\"\"\n",
    "    no leak\n",
    "    \"\"\"\n",
    "    return x.view(-1)\n",
    "\n",
    "for name, compile_fn in compile_fns:\n",
    "    gc.collect()\n",
    "    print(\"###############\")\n",
    "    print(\"## compile_fn\", name)\n",
    "    torch._dynamo.reset()\n",
    "    \n",
    "    # leaks 22 kbytes\n",
    "    #m = BDD100KSemSeg(device=device, compile_fn=compile_fn)\n",
    "    #m = compile_fn(transforms.Normalize(mean=(1, 2, 3), std=(4,5,6)))\n",
    "    #m = compile_fn(f_as_tensor)\n",
    "    \n",
    "    # leaks ~11kb/it\n",
    "    m = compile_fn(models.resnet18().to(device))\n",
    "    inp = torch.rand(2, 3, 240, 320, device=device) \n",
    "    \n",
    "    # warmup\n",
    "    m(inp)\n",
    "    m(inp)\n",
    "    \n",
    "    start_mem = get_mem()\n",
    "    \n",
    "    N = 10000\n",
    "    for i in range(N):\n",
    "        m(inp)\n",
    "\n",
    "        if i % (N//10) == 0:\n",
    "            print(i, get_mem())\n",
    "            \n",
    "    end_mem = get_mem()\n",
    "    total_diff = (end_mem-start_mem)\n",
    "    print(\"bytes/it\", total_diff/N)\n",
    "    print(\"bytes\", total_diff)\n"
   ]
  },
  {
   "cell_type": "code",
   "execution_count": 2,
   "id": "5b486b21",
   "metadata": {
    "ExecuteTime": {
     "end_time": "2023-03-16T07:14:03.698000Z",
     "start_time": "2023-03-16T07:14:03.690187Z"
    }
   },
   "outputs": [
    {
     "data": {
      "text/plain": [
       "['aot_ts_nvfuser',\n",
       " 'cudagraphs',\n",
       " 'inductor',\n",
       " 'ipex',\n",
       " 'nvprims_nvfuser',\n",
       " 'onnxrt',\n",
       " 'tvm']"
      ]
     },
     "execution_count": 2,
     "metadata": {},
     "output_type": "execute_result"
    }
   ],
   "source": [
    "import torch._dynamo\n",
    "torch._dynamo.list_backends()"
   ]
  }
 ],
 "metadata": {
  "kernelspec": {
   "display_name": "Python 3 (ipykernel)",
   "language": "python",
   "name": "python3"
  },
  "language_info": {
   "codemirror_mode": {
    "name": "ipython",
    "version": 3
   },
   "file_extension": ".py",
   "mimetype": "text/x-python",
   "name": "python",
   "nbconvert_exporter": "python",
   "pygments_lexer": "ipython3",
   "version": "3.10.9"
  }
 },
 "nbformat": 4,
 "nbformat_minor": 5
}
