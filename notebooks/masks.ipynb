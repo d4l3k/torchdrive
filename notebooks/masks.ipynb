{
 "cells": [
  {
   "cell_type": "code",
   "execution_count": 3,
   "id": "00125617-7b9f-417d-9f31-9186de556a40",
   "metadata": {},
   "outputs": [],
   "source": [
    "%load_ext autoreload"
   ]
  },
  {
   "cell_type": "code",
   "execution_count": 505,
   "id": "4ff931fe-2bb9-439d-b4fc-b109eb06abc9",
   "metadata": {},
   "outputs": [
    {
     "data": {
      "image/jpeg": "[encoded data removed]",
      "image/png": "[encoded data removed]",
      "text/plain": [
       "<PIL.Image.Image image mode=RGB size=80x60>"
      ]
     },
     "metadata": {},
     "output_type": "display_data"
    },
    {
     "name": "stdout",
     "output_type": "stream",
     "text": [
      "tensor(0.3908)\n"
     ]
    }
   ],
   "source": [
    "%autoreload 2\n",
    "import torch\n",
    "from torchdrive.notebook import display_img, display_color, display, to_pil_image\n",
    "from torchworld.transforms.mask import random_block_mask\n",
    "\n",
    "\n",
    "mask = torch.ones((60, 80))\n",
    "mask = random_block_mask(mask, (25, 25), 8)\n",
    "\n",
    "display_color(mask)\n",
    "print(mask.sum()/mask.numel())"
   ]
  },
  {
   "cell_type": "code",
   "execution_count": null,
   "id": "d7cae4e6-f87a-42a4-8fa5-8ca9e895f005",
   "metadata": {},
   "outputs": [],
   "source": []
  }
 ],
 "metadata": {
  "kernelspec": {
   "display_name": "torchdrive",
   "language": "python",
   "name": "torchdrive"
  },
  "language_info": {
   "codemirror_mode": {
    "name": "ipython",
    "version": 3
   },
   "file_extension": ".py",
   "mimetype": "text/x-python",
   "name": "python",
   "nbconvert_exporter": "python",
   "pygments_lexer": "ipython3",
   "version": "3.10.14"
  }
 },
 "nbformat": 4,
 "nbformat_minor": 5
}
