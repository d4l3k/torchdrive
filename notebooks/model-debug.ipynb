{
 "cells": [
  {
   "cell_type": "code",
   "execution_count": 1,
   "id": "08b1582e",
   "metadata": {
    "ExecuteTime": {
     "end_time": "2023-10-11T05:34:22.297327Z",
     "start_time": "2023-10-11T05:34:22.267654Z"
    }
   },
   "outputs": [],
   "source": [
    "%load_ext autoreload"
   ]
  },
  {
   "cell_type": "code",
   "execution_count": 2,
   "id": "32dfa27f",
   "metadata": {
    "ExecuteTime": {
     "end_time": "2023-10-11T05:34:37.103075Z",
     "start_time": "2023-10-11T05:34:35.588210Z"
    },
    "scrolled": true
   },
   "outputs": [
    {
     "name": "stdout",
     "output_type": "stream",
     "text": [
      "======\n",
      "Loading NuScenes tables for version v1.0-mini...\n",
      "23 category,\n",
      "8 attribute,\n",
      "4 visibility,\n",
      "911 instance,\n",
      "12 sensor,\n",
      "120 calibrated_sensor,\n",
      "31206 ego_pose,\n",
      "8 log,\n",
      "10 scene,\n",
      "404 sample,\n",
      "31206 sample_data,\n",
      "18538 sample_annotation,\n",
      "4 map,\n",
      "Done loading in 0.675 seconds.\n",
      "======\n",
      "Reverse indexing ...\n",
      "Done reverse indexing in 0.1 seconds.\n",
      "======\n",
      "Found 2342 scenes for CAM_FRONT\n",
      "Found 2342 samples for CAM_FRONT\n",
      "Found 2344 scenes for CAM_FRONT_LEFT\n",
      "Found 2344 samples for CAM_FRONT_LEFT\n",
      "Found 2338 scenes for CAM_FRONT_RIGHT\n",
      "Found 2338 samples for CAM_FRONT_RIGHT\n",
      "Found 2315 scenes for CAM_BACK\n",
      "Found 2315 samples for CAM_BACK\n",
      "Found 2327 scenes for CAM_BACK_LEFT\n",
      "Found 2327 samples for CAM_BACK_LEFT\n",
      "Found 2342 scenes for CAM_BACK_RIGHT\n",
      "Found 2342 samples for CAM_BACK_RIGHT\n",
      "failed to match 10/14008 frames\n",
      "2342\n"
     ]
    }
   ],
   "source": [
    "%autoreload 2\n",
    "import os\n",
    "os.environ[\"CUDA_LAUNCH_BLOCKING\"] = \"1\"\n",
    "\n",
    "from torchdrive.data import collate\n",
    "from torchdrive.notebook import display_img, display_color, display, to_pil_image\n",
    "from torchdrive.transforms.batch import NormalizeCarPosition\n",
    "from configs.simplebev3d_multi_pose import CONFIG\n",
    "import torch\n",
    "\n",
    "\n",
    "NUSCENES = True\n",
    "if True:\n",
    "    dataset = CONFIG.create_dataset(smoke=True)\n",
    "elif NUSCENES:\n",
    "    from torchdrive.datasets.nuscenes_dataset import NuscenesDataset\n",
    "    dataset = NuscenesDataset(\n",
    "        data_dir=\"../../../ext3/nuscenes\",\n",
    "        version=\"v1.0-mini\",\n",
    "        lidar=True,\n",
    "        num_frames=5,\n",
    "    )\n",
    "else:\n",
    "    from torchdrive.datasets.rice import MultiCamDataset\n",
    "    dataset = MultiCamDataset(\n",
    "        index_file=\"../../openape/snapshots/out-mar23/index.txt\",\n",
    "        mask_dir=\"../../openape/masks\",\n",
    "        cameras=[\"main\", \"narrow\", \"fisheye\", \"leftpillar\", \"leftrepeater\", \"rightpillar\", \"rightrepeater\", \"backup\"],\n",
    "        cam_shape=(480, 640),\n",
    "        nframes_per_point=5,\n",
    "        limit_size=1000,\n",
    "        dynamic=True,\n",
    "    )\n",
    "print(len(dataset))\n",
    "# 120 has LIDAR alignment issues\n",
    "# 500 has it fixed\n",
    "example = dataset[500]\n",
    "assert example is not None\n",
    "\n",
    "#transform = NormalizeCarPosition(start_frame=0)\n",
    "#batch = collate([example])\n",
    "#batch = transform(batch)\n",
    "\n",
    "#for cam in a.cameras:\n",
    "#    display_img(example.color[cam][0].float())"
   ]
  },
  {
   "cell_type": "code",
   "execution_count": 3,
   "id": "adbef9b6",
   "metadata": {
    "ExecuteTime": {
     "end_time": "2023-10-06T03:40:26.934037Z",
     "start_time": "2023-10-06T03:40:23.023588Z"
    }
   },
   "outputs": [
    {
     "name": "stderr",
     "output_type": "stream",
     "text": [
      "/home/tristanr/.conda/envs/torchdrive-3.10/lib/python3.10/site-packages/torchvision/models/_utils.py:208: UserWarning: The parameter 'pretrained' is deprecated since 0.13 and may be removed in the future, please use 'weights' instead.\n",
      "  warnings.warn(\n",
      "/home/tristanr/.conda/envs/torchdrive-3.10/lib/python3.10/site-packages/torchvision/models/_utils.py:223: UserWarning: Arguments other than a weight enum or `None` for 'weights' are deprecated since 0.13 and may be removed in the future. The current behavior is equivalent to passing `weights=RegNet_X_800MF_Weights.IMAGENET1K_V1`. You can also use `weights=RegNet_X_800MF_Weights.DEFAULT` to get the most up-to-date weights.\n",
      "  warnings.warn(msg)\n"
     ]
    }
   ],
   "source": [
    "\n",
    "device = torch.device('cpu')\n",
    "model = CONFIG.create_model(device=device)"
   ]
  },
  {
   "cell_type": "code",
   "execution_count": null,
   "id": "8bc53be5",
   "metadata": {
    "ExecuteTime": {
     "end_time": "2023-10-06T03:40:39.500175Z",
     "start_time": "2023-10-06T03:40:36.561514Z"
    },
    "scrolled": true
   },
   "outputs": [],
   "source": [
    "%autoreload 2\n",
    "from torch import nn\n",
    "from torchdrive.transforms.batch import NormalizeCarPosition\n",
    "\n",
    "device = torch.device('cuda')\n",
    "CONFIG.cam_features_mask_ratio = 0.0\n",
    "model = CONFIG.create_model(device=device)\n",
    "\n",
    "model.transform=NormalizeCarPosition(2)\n",
    "\n",
    "def replace(m):\n",
    "    for name, module in m.named_children():\n",
    "        if isinstance(module, (\n",
    "            nn.BatchNorm3d, \n",
    "            nn.BatchNorm2d, \n",
    "            nn.BatchNorm1d,\n",
    "            nn.InstanceNorm2d,\n",
    "            nn.InstanceNorm3d,\n",
    "            nn.ReLU,\n",
    "        )):\n",
    "            setattr(m, name, nn.Identity())\n",
    "        elif isinstance(module, nn.Conv2d):\n",
    "            if module.bias is not None:\n",
    "                module.bias.data.zero_()\n",
    "            weight = module.weight.data\n",
    "            weight.zero_()\n",
    "            in_ch, out_ch, h, w = weight.shape\n",
    "            ch = h // 2\n",
    "            cw = w // 2\n",
    "            weight[:, :, ch, cw] = 1.0/in_ch\n",
    "\n",
    "            if h == 1 and w == 1 and in_ch == out_ch and module.stride == (1, 1):\n",
    "                setattr(m, name, nn.Identity())\n",
    "        elif isinstance(module, nn.Conv3d):\n",
    "            if module.bias is not None:\n",
    "                module.bias.data.zero_()\n",
    "            weight = module.weight.data\n",
    "            weight.zero_()\n",
    "            in_ch, out_ch, h, w, d = weight.shape\n",
    "            ch = h // 2\n",
    "            cw = w // 2\n",
    "            cd = d // 2\n",
    "            weight[:, :, ch, cw, cd] = 1.0/in_ch\n",
    "        elif isinstance(module, nn.Embedding):\n",
    "            module.weight.data.zero_()\n",
    "        elif isinstance(module, nn.Upsample):\n",
    "            module.mode = \"nearest\"\n",
    "            module.align_corners = None\n",
    "        #else:\n",
    "            #raise RuntimeError(f\"found {module}\")\n",
    "            #print(module.weight.shape)\n",
    "    #print(m)\n",
    "model.apply(replace)\n",
    "\n",
    "class ZeroOutput(nn.Module):\n",
    "    def __init__(self, module: nn.Module) -> None:\n",
    "        super().__init__()\n",
    "        self.module = module\n",
    "\n",
    "    def forward(self, x: torch.Tensor) -> torch.Tensor:\n",
    "        return self.module(x) * 0\n",
    "\n",
    "def disable_upsample(m):\n",
    "    for name, module in m.named_children():\n",
    "        if isinstance(module, nn.Upsample):\n",
    "            setattr(m, name, ZeroOutput(module))\n",
    "\n",
    "\n",
    "# this effectively disables the fpn\n",
    "model.backbone.fpn.apply(disable_upsample)\n",
    "\n",
    "class NoopFPN(nn.Module):\n",
    "    def forward(self, x: torch.Tensor) -> torch.Tensor:\n",
    "        return x, x, x, x\n",
    "\n",
    "model.backbone.fpn = NoopFPN().to(device)"
   ]
  },
  {
   "cell_type": "code",
   "execution_count": null,
   "id": "39ee95a5-daf9-4ece-8ed5-3934aab97063",
   "metadata": {},
   "outputs": [],
   "source": []
  },
  {
   "cell_type": "code",
   "execution_count": null,
   "id": "2e05f384",
   "metadata": {
    "ExecuteTime": {
     "end_time": "2023-10-06T03:40:44.899507Z",
     "start_time": "2023-10-06T03:40:43.423015Z"
    }
   },
   "outputs": [],
   "source": [
    "%autoreload 2\n",
    "from unittest.mock import MagicMock\n",
    "from torch.utils.tensorboard import SummaryWriter\n",
    "import tempfile\n",
    "from torchvision.transforms.functional import to_pil_image\n",
    "import os\n",
    "\n",
    "\n",
    "writer = MagicMock(autospec=SummaryWriter)\n",
    "\n",
    "out = tempfile.TemporaryDirectory()\n",
    "\n",
    "def add_image(name: str, img: object, global_step: int):\n",
    "    if \"CAM_FRONT/\" in name or \"bev\" in name or \"grid\" in name or \"dispvoxel\" in name or True:\n",
    "        print(name)\n",
    "        display(to_pil_image(img))\n",
    "        \n",
    "def add_scalar(name: str, val: float, global_step: int):\n",
    "    if False:\n",
    "        print(name, val)\n",
    "    \n",
    "def add_scalars(name: str, val: float, global_step: int):\n",
    "    if 'CAM_FRONT' in name:\n",
    "        print(name, val)\n",
    "    \n",
    "writer.add_image.side_effect = add_image\n",
    "writer.add_scalar.side_effect = add_scalar\n",
    "writer.add_scalars.side_effect = add_scalars\n",
    "\n",
    "batch = collate([example]).to(device)\n",
    "for cam in batch.color:\n",
    "    batch.color[cam] = torch.full_like(batch.color[cam], fill_value=0, dtype=torch.float32)\n",
    "\n",
    "FRAME = 0\n",
    "batch.color[\"CAM_FRONT\"][:, FRAME, :, 280:320, 540:580] = 100.0\n",
    "#print(batch.color[\"CAM_FRONT\"].shape)\n",
    "\n",
    "with torch.no_grad():\n",
    "    model(batch=batch, global_step=1000, writer=writer, output=out.name)"
   ]
  },
  {
   "cell_type": "code",
   "execution_count": 13,
   "id": "4d38127d-0142-4e0f-8ac7-88a0e961b288",
   "metadata": {
    "scrolled": true
   },
   "outputs": [
    {
     "name": "stderr",
     "output_type": "stream",
     "text": [
      "/home/tristanr/.conda/envs/torchdrive-3.10/lib/python3.10/site-packages/pythreejs/traits.py:257: UserWarning: 64-bit data types not supported for WebGL data, casting to 32-bit.\n",
      "  warnings.warn('64-bit data types not supported for WebGL '\n"
     ]
    },
    {
     "data": {
      "application/vnd.jupyter.widget-view+json": {
       "model_id": "197b7a705c4c45ce8f396ae8553e70b7",
       "version_major": 2,
       "version_minor": 0
      },
      "text/plain": [
       "Renderer(camera=PerspectiveCamera(aspect=1.8, position=(-10.0, 6.0, 10.0), projectionMatrix=(1.0, 0.0, 0.0, 0.…"
      ]
     },
     "execution_count": 13,
     "metadata": {},
     "output_type": "execute_result"
    }
   ],
   "source": [
    "%autoreload 2\n",
    "\n",
    "from torchworld import vis\n",
    "from pythreejs import *\n",
    "from torchworld.structures.grid import Grid3d\n",
    "\n",
    "transform = NormalizeCarPosition(2)\n",
    "nbatch = transform(batch)\n",
    "\n",
    "target_grid = Grid3d.from_volume(\n",
    "    data=torch.zeros(1, 1, 16, 256, 256),\n",
    "    voxel_size=1.0/3,\n",
    "    time=0,\n",
    "    volume_translation=(0, 0, -4.0/3.0),\n",
    ")\n",
    "\n",
    "renderer = vis.renderer()\n",
    "renderer.scene.add(vis.grid_image(nbatch.grid_image(\"CAM_FRONT\", 0)))\n",
    "renderer.scene.add(vis.grid_3d_occupancy(target_grid))\n",
    "#vis.camera(batch.camera(\"CAM_FRONT\", 0))\n",
    "renderer"
   ]
  },
  {
   "cell_type": "code",
   "execution_count": null,
   "id": "65e7923f-3eea-4268-89ba-4b9ac6d0a9e3",
   "metadata": {},
   "outputs": [],
   "source": [
    "frame = batch.color[\"CAM_FRONT\"][0, 0]\n",
    "print(frame.shape)\n",
    "display_img(frame)\n",
    "\n",
    "out = model.camera_encoders[\"CAM_FRONT\"](frame.unsqueeze(0))[0]\n",
    "print(out.shape)\n",
    "display_color(out.sum(dim=0))"
   ]
  },
  {
   "cell_type": "code",
   "execution_count": null,
   "id": "17ec322f",
   "metadata": {
    "ExecuteTime": {
     "end_time": "2023-10-05T06:49:56.492316Z",
     "start_time": "2023-10-05T06:49:56.421266Z"
    }
   },
   "outputs": [],
   "source": [
    "T = model.backbone.volume_locator.get_local_to_world_coords_transform().get_matrix().permute(0, 2, 1)\n",
    "zero = torch.tensor((0,0,0,1.0), device=device)\n",
    "T.matmul(zero)"
   ]
  },
  {
   "cell_type": "code",
   "execution_count": null,
   "id": "0ae6970e",
   "metadata": {
    "ExecuteTime": {
     "end_time": "2023-10-05T06:52:20.434315Z",
     "start_time": "2023-10-05T06:52:20.379107Z"
    }
   },
   "outputs": [],
   "source": [
    "batch.world_to_cam(\"CAM_FRONT\", 2).matmul(zero)"
   ]
  },
  {
   "cell_type": "code",
   "execution_count": null,
   "id": "7bdf324f",
   "metadata": {
    "ExecuteTime": {
     "end_time": "2023-10-04T06:04:23.254868Z",
     "start_time": "2023-10-04T06:04:23.180264Z"
    }
   },
   "outputs": [],
   "source": [
    "import torch\n",
    "from torchdrive.transforms.img import render_color\n",
    "\n",
    "img = torch.zeros(2,3, device=torch.device('cuda'))\n",
    "render_color(img)"
   ]
  },
  {
   "cell_type": "code",
   "execution_count": null,
   "id": "e342e7cd",
   "metadata": {
    "ExecuteTime": {
     "end_time": "2023-10-11T05:41:36.509127Z",
     "start_time": "2023-10-11T05:41:36.425486Z"
    }
   },
   "outputs": [],
   "source": [
    "import safetensors.torch\n",
    "import zstd\n",
    "\n",
    "path = \"/mnt/ext3/autolabel/nuscenes/sem_seg/00889f8a9549450aa2f32cf310a3e305.safetensors.zstd\"\n",
    "with open(path, \"rb\") as f:\n",
    "    decomp = zstd.ZSTD_uncompress(f.read())\n",
    "out = safetensors.torch.load(decomp)\n",
    "front = out['CAM_FRONT'].bfloat16()/255\n",
    "display_color(front.argmax(dim=0))"
   ]
  },
  {
   "cell_type": "code",
   "execution_count": null,
   "id": "7044255e",
   "metadata": {},
   "outputs": [],
   "source": [
    "\n",
    "\n",
    "\n",
    "\n",
    "\n",
    "\n",
    "\n",
    "\n",
    "\n",
    "\n",
    "\n",
    "\n",
    "\n",
    "\n",
    "\n",
    "\n",
    "\n",
    "\n",
    "\n",
    "\n",
    "\n",
    "\n",
    "\n",
    "\n",
    "\n",
    "\n",
    "\n",
    "\n",
    "\n",
    "\n",
    "\n",
    "\n",
    "\n",
    "\n",
    "\n",
    "\n",
    "\n"
   ]
  }
 ],
 "metadata": {
  "kernelspec": {
   "display_name": "torchdrive",
   "language": "python",
   "name": "torchdrive"
  },
  "language_info": {
   "codemirror_mode": {
    "name": "ipython",
    "version": 3
   },
   "file_extension": ".py",
   "mimetype": "text/x-python",
   "name": "python",
   "nbconvert_exporter": "python",
   "pygments_lexer": "ipython3",
   "version": "3.10.14"
  }
 },
 "nbformat": 4,
 "nbformat_minor": 5
}
